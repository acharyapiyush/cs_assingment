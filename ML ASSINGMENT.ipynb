{
 "cells": [
  {
   "cell_type": "code",
   "execution_count": null,
   "metadata": {},
   "outputs": [],
   "source": [
    "Q1 Write a program to get a user input in the form of list data type.Return a list by recovering all the duplicates.\n",
    "sample Inputes->4,4,5,6,8,4,5)\n",
    "OUTPUT->(4,5,6,7,8)"
   ]
  },
  {
   "cell_type": "code",
   "execution_count": 3,
   "metadata": {},
   "outputs": [
    {
     "name": "stdout",
     "output_type": "stream",
     "text": [
      "{8, 4, 5, 6}\n"
     ]
    }
   ],
   "source": [
    "list={4,4,5,6,8,4,5}\n",
    "print(list)"
   ]
  },
  {
   "cell_type": "code",
   "execution_count": null,
   "metadata": {},
   "outputs": [],
   "source": [
    "Q2 Write a program to create a user a user defined tuple with int data type and perform the follow operation.\n",
    "Find the length of tuples.\n",
    "find the sum of all the elements of a tuple.\n",
    "find the largest and smallest element of a tuple."
   ]
  },
  {
   "cell_type": "code",
   "execution_count": 5,
   "metadata": {},
   "outputs": [
    {
     "name": "stdout",
     "output_type": "stream",
     "text": [
      "14\n",
      "66\n",
      "1\n",
      "9\n"
     ]
    }
   ],
   "source": [
    "t=(1,2,3,4,5,3,5,6,7,6,8,9,3,4)\n",
    "print(len(t))\n",
    "print(sum(t))\n",
    "print(min(t))\n",
    "print(max(t))"
   ]
  },
  {
   "cell_type": "code",
   "execution_count": null,
   "metadata": {},
   "outputs": [],
   "source": [
    "Q3 Given a number and ith bit,change the ith bit of that number to 1.\n",
    "sample input =num=13,i=1\n",
    "output=15\n",
    "explanation-> 13 can be represented as 1101 in binary.Now if we set the 1st bit of this binary represented value we get 1111(15) "
   ]
  },
  {
   "cell_type": "code",
   "execution_count": 8,
   "metadata": {},
   "outputs": [
    {
     "name": "stdout",
     "output_type": "stream",
     "text": [
      "Ath bit set number =  15\n"
     ]
    }
   ],
   "source": [
    "def setAthBit(n,k):\n",
    "    return((1<<k) | n)\n",
    "n = 13\n",
    "k = 1\n",
    "print(\"Ath bit set number = \" , setAthBit(n,k))\n"
   ]
  },
  {
   "cell_type": "code",
   "execution_count": null,
   "metadata": {},
   "outputs": [],
   "source": [
    "Q4 given a number , print 1 if the number is odd otherwise print 0.\n",
    "Note = Try not to use if and else."
   ]
  },
  {
   "cell_type": "code",
   "execution_count": null,
   "metadata": {},
   "outputs": [],
   "source": []
  },
  {
   "cell_type": "code",
   "execution_count": null,
   "metadata": {},
   "outputs": [
    {
     "name": "stdout",
     "output_type": "stream",
     "text": [
      "Enter the number\n"
     ]
    }
   ],
   "source": [
    "arr = [\"0\" ,\"1\"]\n",
    "#0 = even, 1 = odd\n",
    "print(\"Enter the number\")\n",
    "no = input()\n",
    "print(arr[int(no)   %2])"
   ]
  },
  {
   "cell_type": "code",
   "execution_count": null,
   "metadata": {},
   "outputs": [],
   "source": [
    "Q5 Given two lists of integers A and B (Take users inputs). Write a program to merge them into a single\n",
    "sorted lists that contains every item from list A and B in ascending order."
   ]
  },
  {
   "cell_type": "code",
   "execution_count": null,
   "metadata": {},
   "outputs": [],
   "source": [
    "list_1 = [1,2,3,4,5,6,7,8,9,10]\n",
    "list_2 = [11,12,13,14,15,16,17,18,19,20]\n",
    "print(\"The original list 1 is : \" + str((list_1))\n",
    "print(\"the original list 2 is : \" + str((list_2))\n",
    "res = sorted( list_1 + list_2)\n",
    "list_1 , list_2.sort()\n",
    "print(\"The combined sorted list is : \" + str(res))"
   ]
  },
  {
   "cell_type": "code",
   "execution_count": null,
   "metadata": {},
   "outputs": [],
   "source": []
  },
  {
   "cell_type": "code",
   "execution_count": null,
   "metadata": {},
   "outputs": [],
   "source": [
    "Q6 Create a user defined dictionary to store names and marks of 5 students.\n",
    "sort the dictionary acc to marks and return this sorted to the user.\n",
    "sample input->{'Berlin' :70, 'Oslo'0,'Moscow':50,'Nairobi':100}\n",
    "output->{'Oslo':0, 'Moscow':50,'Berlin':70,'Nairobi' :100}"
   ]
  },
  {
   "cell_type": "code",
   "execution_count": null,
   "metadata": {},
   "outputs": [],
   "source": [
    "marks = {70:\"Berlin\", 0:\"Osolo\", 50:\"Moscow\", 100:\"Nairobi\"}\n",
    "for s in sorted(marks):\n",
    "    print(s,\":\",marks[s])"
   ]
  },
  {
   "cell_type": "code",
   "execution_count": null,
   "metadata": {},
   "outputs": [],
   "source": []
  }
 ],
 "metadata": {
  "kernelspec": {
   "display_name": "Python 3",
   "language": "python",
   "name": "python3"
  },
  "language_info": {
   "codemirror_mode": {
    "name": "ipython",
    "version": 3
   },
   "file_extension": ".py",
   "mimetype": "text/x-python",
   "name": "python",
   "nbconvert_exporter": "python",
   "pygments_lexer": "ipython3",
   "version": "3.7.6"
  }
 },
 "nbformat": 4,
 "nbformat_minor": 4
}
